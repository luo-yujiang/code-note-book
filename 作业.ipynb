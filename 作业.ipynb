{
 "cells": [
  {
   "cell_type": "markdown",
   "metadata": {},
   "source": [
    "# 数据集如下"
   ]
  },
  {
   "cell_type": "markdown",
   "metadata": {},
   "source": [
    "## 读取"
   ]
  },
  {
   "cell_type": "code",
   "execution_count": 1,
   "metadata": {
    "scrolled": false
   },
   "outputs": [
    {
     "name": "stdout",
     "output_type": "stream",
     "text": [
      "          时间   CPI增幅  财政赤字/GDP  国内信贷增长量/GDP  固定资产投资增长率  外商直接投资          债券  \\\n",
      "0    2003-01  0.4000 -0.072697     0.291726       0.00   35.90   9778.0600   \n",
      "1    2003-02  0.2000 -0.041784     0.124492      -1.50   39.50   9978.6100   \n",
      "2    2003-03  0.9000 -0.021978     0.377464      -6.99   55.50  10052.0000   \n",
      "3    2003-04  1.0000 -0.016565     0.081458       4.00   47.40   9922.1700   \n",
      "4    2003-05  0.7000 -0.004059     0.136493      -7.03   54.50  10130.6700   \n",
      "..       ...     ...       ...          ...        ...     ...         ...   \n",
      "106  2011-11  4.2000  0.031420     0.121827      -8.50   87.57  70000.0000   \n",
      "107  2011-12  4.1000 -0.020645     0.119197      -9.70   93.25  75409.7000   \n",
      "108  2012-01  4.5000 -0.163501     0.090080       0.00   97.08  75599.5710   \n",
      "109  2012-02  3.2000 -0.000368     0.253023       0.00  103.56  78250.5443   \n",
      "110  2012-03  3.5856  0.031555     0.602902      -9.70  117.57  80404.8349   \n",
      "\n",
      "     股票总市价/GDP     净出口      汇率  \n",
      "0     4.420771   12.40  8.2768  \n",
      "1     4.463091   -6.76  8.2774  \n",
      "2     4.441420    4.58  8.2772  \n",
      "3     2.138669  -10.16  8.2771  \n",
      "4     2.224235  -22.38  8.2769  \n",
      "..         ...     ...     ...  \n",
      "106   1.474129 -145.28  6.3408  \n",
      "107   1.366250 -165.20  6.3281  \n",
      "108   6.136931 -132.50  6.3168  \n",
      "109   6.633933  -84.20  6.3000  \n",
      "110   6.242092  -53.47  6.3081  \n",
      "\n",
      "[111 rows x 10 columns]\n"
     ]
    }
   ],
   "source": [
    "import pandas as pd\n",
    "import scipy as sci\n",
    "df1 = pd.read_excel(\"data.xlsx\")\n",
    "print(df1)"
   ]
  },
  {
   "cell_type": "markdown",
   "metadata": {},
   "source": [
    "# 代码及结果"
   ]
  },
  {
   "cell_type": "code",
   "execution_count": 2,
   "metadata": {
    "scrolled": false
   },
   "outputs": [
    {
     "name": "stdout",
     "output_type": "stream",
     "text": [
      "最小值\n",
      " 时间               2003-01\n",
      "CPI增幅               -1.8\n",
      "财政赤字/GDP       -0.198353\n",
      "国内信贷增长量/GDP   -0.0359483\n",
      "固定资产投资增长率            -14\n",
      "外商直接投资              30.8\n",
      "债券               9778.06\n",
      "股票总市价/GDP       0.504418\n",
      "净出口               -400.9\n",
      "汇率                   6.3\n",
      "dtype: object\n",
      "\n",
      "最大值\n",
      " 时间              2012-03\n",
      "CPI增幅               8.7\n",
      "财政赤字/GDP       0.128078\n",
      "国内信贷增长量/GDP    0.926199\n",
      "固定资产投资增长率          40.3\n",
      "外商直接投资           130.94\n",
      "债券              80404.8\n",
      "股票总市价/GDP       12.7467\n",
      "净出口               78.72\n",
      "汇率               9.8322\n",
      "dtype: object\n",
      "\n"
     ]
    }
   ],
   "source": [
    "print('最小值\\n',df1.min(),end='\\n\\n')\n",
    "print('最大值\\n',df1.max(),end='\\n\\n')"
   ]
  },
  {
   "cell_type": "code",
   "execution_count": 3,
   "metadata": {},
   "outputs": [
    {
     "name": "stdout",
     "output_type": "stream",
     "text": [
      "标准差\n",
      " CPI增幅              2.416781\n",
      "财政赤字/GDP           0.050365\n",
      "国内信贷增长量/GDP        0.148244\n",
      "固定资产投资增长率         12.380831\n",
      "外商直接投资            23.469080\n",
      "债券             20383.168023\n",
      "股票总市价/GDP          2.541523\n",
      "净出口              101.604460\n",
      "汇率                 0.747203\n",
      "dtype: float64\n",
      "\n",
      "方差\n",
      " CPI增幅          5.840832e+00\n",
      "财政赤字/GDP       2.536635e-03\n",
      "国内信贷增长量/GDP    2.197638e-02\n",
      "固定资产投资增长率      1.532850e+02\n",
      "外商直接投资         5.507977e+02\n",
      "债券             4.154735e+08\n",
      "股票总市价/GDP      6.459337e+00\n",
      "净出口            1.032347e+04\n",
      "汇率             5.583124e-01\n",
      "dtype: float64\n",
      "\n"
     ]
    }
   ],
   "source": [
    "print('标准差\\n',df1.std(),end='\\n\\n')\n",
    "print('方差\\n',df1.var(),end='\\n\\n')"
   ]
  },
  {
   "cell_type": "code",
   "execution_count": 4,
   "metadata": {},
   "outputs": [
    {
     "name": "stdout",
     "output_type": "stream",
     "text": [
      "均值\n",
      " CPI增幅              3.028699\n",
      "财政赤字/GDP          -0.020369\n",
      "国内信贷增长量/GDP        0.126915\n",
      "固定资产投资增长率         10.637658\n",
      "外商直接投资            66.786036\n",
      "债券             34877.061443\n",
      "股票总市价/GDP          3.224755\n",
      "净出口             -131.893514\n",
      "汇率                 7.477495\n",
      "dtype: float64\n",
      "\n",
      "四分位数\n",
      " CPI增幅              1.300000\n",
      "财政赤字/GDP          -0.032896\n",
      "国内信贷增长量/GDP        0.037971\n",
      "固定资产投资增长率          0.000000\n",
      "外商直接投资            49.000000\n",
      "债券             16771.810000\n",
      "股票总市价/GDP          1.248362\n",
      "净出口             -200.290000\n",
      "汇率                 6.827400\n",
      "Name: 0.25, dtype: float64\n",
      "\n"
     ]
    }
   ],
   "source": [
    "print('均值\\n',df1.mean(),end=\"\\n\\n\")\n",
    "print('四分位数\\n',df1.quantile(q=0.25),end='\\n\\n')"
   ]
  },
  {
   "cell_type": "code",
   "execution_count": 5,
   "metadata": {},
   "outputs": [
    {
     "name": "stdout",
     "output_type": "stream",
     "text": [
      "峰度\n",
      " CPI增幅          0.183740\n",
      "财政赤字/GDP      -1.058987\n",
      "国内信贷增长量/GDP    2.556539\n",
      "固定资产投资增长率     -0.051625\n",
      "外商直接投资         0.761858\n",
      "债券             0.532766\n",
      "股票总市价/GDP      1.584562\n",
      "净出口           -0.367790\n",
      "汇率             0.098808\n",
      "dtype: float64\n",
      "\n",
      "偏度\n",
      " CPI增幅         -0.465266\n",
      "财政赤字/GDP       3.968468\n",
      "国内信贷增长量/GDP    8.936620\n",
      "固定资产投资增长率     -0.786265\n",
      "外商直接投资         0.118163\n",
      "债券            -0.884990\n",
      "股票总市价/GDP      2.672965\n",
      "净出口           -0.106362\n",
      "汇率            -0.918968\n",
      "dtype: float64\n",
      "\n"
     ]
    }
   ],
   "source": [
    "print('峰度\\n',df1.skew(),end='\\n\\n')\n",
    "print('偏度\\n',df1.kurt(),end='\\n\\n')"
   ]
  },
  {
   "cell_type": "code",
   "execution_count": 6,
   "metadata": {},
   "outputs": [],
   "source": [
    "import matplotlib.pyplot as plt\n",
    "import seaborn as sns\n",
    "import numpy as np\n",
    "from pylab import *\n",
    "import operator\n",
    "from functools import reduce\n",
    "from plotnine import *"
   ]
  },
  {
   "cell_type": "markdown",
   "metadata": {},
   "source": [
    "a = stock2.iloc[:,1]\n",
    "a.shape\n",
    "print(len_y)\n",
    "x_data = np.linspace(0,len_y-1,len_y)\n",
    "print(x_data)"
   ]
  },
  {
   "cell_type": "markdown",
   "metadata": {},
   "source": [
    "y_data = df1.iloc[:,1:]\n",
    "len_y=len(y_data)\n",
    "y_data.iloc[:,1]"
   ]
  },
  {
   "cell_type": "code",
   "execution_count": null,
   "metadata": {},
   "outputs": [],
   "source": [
    "plt.figure()\n",
    "fig = plt.figure()\n",
    "fig.set_figheight(50)\n",
    "fig.set_figwidth(50)\n",
    "x_data = np.linspace(0,len_y-1,len_y)\n",
    "#print(x_data.shape)\n",
    "for i in range(9):\n",
    "    plt.subplot(3,3,1+i)\n",
    "    a = y_data.iloc[:,i]\n",
    "    b = a.values.flatten()\n",
    "    '''print(reduce(operator.add, b))\n",
    "    print(b.shape)\n",
    "    ColNames = a.columns\n",
    "    print(ColNames,type(ColNames))'''\n",
    "    plt.title('1')\n",
    "    plt.plot(x_data,b)"
   ]
  },
  {
   "cell_type": "code",
   "execution_count": 7,
   "metadata": {},
   "outputs": [
    {
     "data": {
      "image/png": "[encoded data removed]",
      "text/plain": [
       "<Figure size 640x480 with 1 Axes>"
      ]
     },
     "metadata": {},
     "output_type": "display_data"
    },
    {
     "data": {
      "text/plain": [
       "<ggplot: (120170710158)>"
      ]
     },
     "execution_count": 7,
     "metadata": {},
     "output_type": "execute_result"
    }
   ],
   "source": [
    "theme_set(theme_bw(base_family='SimHei'));\n",
    "GP = ggplot(df1,aes(x='时间',y='CPI增幅'));GP\n",
    "# print(df1)\n",
    "GP + geom_point()"
   ]
  },
  {
   "cell_type": "markdown",
   "metadata": {},
   "source": [
    "df2 = df1\n",
    "# print(df1)\n",
    "# print(df2)\n",
    "for i in range(10):\n",
    "    a = 12*i\n",
    "    b = 12*(i+1)\n",
    "    df2.iloc[a:b,[0]] = 2003+i\n",
    "# print(df2)\n",
    "# print(df1)"
   ]
  },
  {
   "cell_type": "markdown",
   "metadata": {},
   "source": [
    "sns.set(style='whitegrid', color_codes=True,font='SimHei')\n",
    "plt.rcParams['axes.unicode_minus']=False\n",
    "\n",
    "'''fig, ax_arr = plt.subplots(3,3, figsize=(10,5))\n",
    "for i in range(3):\n",
    "    for j in range(3):\n",
    "        sns.distplot(data,ax = ax_arr[i][j])'''\n",
    "plt.figure()\n",
    "fig.set_figheight(100)\n",
    "fig.set_figwidth(100)\n",
    "subplots_adjust(left=0.0,bottom=0.0,top=2,right=2)\n",
    "for i in range(9):\n",
    "    plt.subplot(3,3,1+i)\n",
    "\n",
    "    sns.violinplot(data=df2.iloc[:,i:i+1])\n",
    "    "
   ]
  },
  {
   "cell_type": "code",
   "execution_count": null,
   "metadata": {},
   "outputs": [],
   "source": []
  },
  {
   "cell_type": "markdown",
   "metadata": {},
   "source": [
    "bar1=[a,b,c,d,e,f,g,h]\n",
    "bar_width = 0.35\n",
    "labels=['最小值','最大值','标准差','方差','均值','四分位数','峰度','偏度']\n",
    "plt.bar(np.arange(5)-0.5*bar_width, bar1,width=bar_width, color='g',align=\"center\")"
   ]
  },
  {
   "cell_type": "markdown",
   "metadata": {},
   "source": [
    "## 数据框对象的方法"
   ]
  },
  {
   "cell_type": "markdown",
   "metadata": {},
   "source": [
    "## 数据框对象的属性"
   ]
  },
  {
   "cell_type": "markdown",
   "metadata": {},
   "source": [
    "## 数据框操作"
   ]
  },
  {
   "cell_type": "markdown",
   "metadata": {},
   "source": [
    "## 获取数据的方式 "
   ]
  }
 ],
 "metadata": {
  "kernelspec": {
   "display_name": "Python 3",
   "language": "python",
   "name": "python3"
  },
  "language_info": {
   "codemirror_mode": {
    "name": "ipython",
    "version": 3
   },
   "file_extension": ".py",
   "mimetype": "text/x-python",
   "name": "python",
   "nbconvert_exporter": "python",
   "pygments_lexer": "ipython3",
   "version": "3.8.5"
  },
  "varInspector": {
   "cols": {
    "lenName": 16,
    "lenType": 16,
    "lenVar": 40
   },
   "kernels_config": {
    "python": {
     "delete_cmd_postfix": "",
     "delete_cmd_prefix": "del ",
     "library": "var_list.py",
     "varRefreshCmd": "print(var_dic_list())"
    },
    "r": {
     "delete_cmd_postfix": ") ",
     "delete_cmd_prefix": "rm(",
     "library": "var_list.r",
     "varRefreshCmd": "cat(var_dic_list()) "
    }
   },
   "types_to_exclude": [
    "module",
    "function",
    "builtin_function_or_method",
    "instance",
    "_Feature"
   ],
   "window_display": false
  }
 },
 "nbformat": 4,
 "nbformat_minor": 4
}
